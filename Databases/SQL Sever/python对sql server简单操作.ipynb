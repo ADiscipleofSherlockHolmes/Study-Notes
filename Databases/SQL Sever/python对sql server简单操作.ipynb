{
 "cells": [
  {
   "cell_type": "code",
   "execution_count": 19,
   "metadata": {},
   "outputs": [],
   "source": [
    "import pymssql"
   ]
  },
  {
   "cell_type": "markdown",
   "metadata": {},
   "source": [
    "### 连接数据库"
   ]
  },
  {
   "cell_type": "code",
   "execution_count": 20,
   "metadata": {},
   "outputs": [],
   "source": [
    "conn = pymssql.connect(host=\"127.0.0.1\",user=\"sa\",password=\"******\",database=\"******\")\n",
    "cursor = conn.cursor()"
   ]
  },
  {
   "cell_type": "markdown",
   "metadata": {},
   "source": [
    "当执行select语句获取数据时，返回的数据行有两种格式：元组和字典，行的默认格式是元组。pymssql返回的数据集的格式是在创建游标时设置的，当参数 as_dict为True时，返回的行是字典格式，该参数的默认值是False，因此，默认的行格式是元组。"
   ]
  },
  {
   "cell_type": "code",
   "execution_count": 21,
   "metadata": {},
   "outputs": [],
   "source": [
    "cursor = conn.cursor(as_dict=True)"
   ]
  },
  {
   "cell_type": "code",
   "execution_count": 22,
   "metadata": {},
   "outputs": [],
   "source": [
    "cursor.execute(\"\"\"\n",
    "create table persons(\n",
    "    id int not null,\n",
    "    name varchar(40),\n",
    "    salesrep varchar(40),\n",
    "    primary key(id)\n",
    ")\n",
    "\"\"\")"
   ]
  },
  {
   "cell_type": "markdown",
   "metadata": {},
   "source": [
    "### 插入多行数据"
   ]
  },
  {
   "cell_type": "code",
   "execution_count": 23,
   "metadata": {},
   "outputs": [],
   "source": [
    "cursor.executemany(\n",
    "\"insert into persons values (%d,%s,%s)\",\n",
    "[(1,\"John Smith\",\"John Doe\"),\n",
    "(2,\"Jone Doe\",\"Joe Dog\"),\n",
    "(3,\"Mike T.\",\"Sarah H.\")])\n",
    "\n",
    "conn.commit()"
   ]
  },
  {
   "cell_type": "markdown",
   "metadata": {},
   "source": [
    "### 查询数据"
   ]
  },
  {
   "cell_type": "code",
   "execution_count": 28,
   "metadata": {},
   "outputs": [],
   "source": [
    "cursor.execute(\"select * from persons\")"
   ]
  },
  {
   "cell_type": "code",
   "execution_count": 29,
   "metadata": {},
   "outputs": [
    {
     "data": {
      "text/plain": [
       "[{'id': 1, 'name': 'John Smith', 'salesrep': 'John Doe'},\n",
       " {'id': 2, 'name': 'Jone Doe', 'salesrep': 'Joe Dog'},\n",
       " {'id': 3, 'name': 'Mike T.', 'salesrep': 'Sarah H.'}]"
      ]
     },
     "execution_count": 29,
     "metadata": {},
     "output_type": "execute_result"
    }
   ],
   "source": [
    "cursor.fetchall()"
   ]
  },
  {
   "cell_type": "markdown",
   "metadata": {},
   "source": [
    "### 遍历数据  方式1"
   ]
  },
  {
   "cell_type": "code",
   "execution_count": 34,
   "metadata": {},
   "outputs": [],
   "source": [
    "cursor.execute(\"select * from persons\")"
   ]
  },
  {
   "cell_type": "code",
   "execution_count": 35,
   "metadata": {},
   "outputs": [
    {
     "name": "stdout",
     "output_type": "stream",
     "text": [
      "{'id': 1, 'name': 'John Smith', 'salesrep': 'John Doe'}\n",
      "ID:1,Name:John Smith\n",
      "ID:2,Name:Jone Doe\n",
      "ID:3,Name:Mike T.\n"
     ]
    }
   ],
   "source": [
    "row = cursor.fetchone()\n",
    "print(row)\n",
    "while row:\n",
    "    print(\"ID:{},Name:{}\".format(row['id'],row['name']))\n",
    "    row = cursor.fetchone()"
   ]
  },
  {
   "cell_type": "markdown",
   "metadata": {},
   "source": [
    "### 遍历数据 方式2"
   ]
  },
  {
   "cell_type": "code",
   "execution_count": 36,
   "metadata": {},
   "outputs": [],
   "source": [
    "cursor.execute(\"select * from persons\")"
   ]
  },
  {
   "cell_type": "code",
   "execution_count": 37,
   "metadata": {},
   "outputs": [
    {
     "name": "stdout",
     "output_type": "stream",
     "text": [
      "{'id': 1, 'name': 'John Smith', 'salesrep': 'John Doe'}\n",
      "{'id': 2, 'name': 'Jone Doe', 'salesrep': 'Joe Dog'}\n",
      "{'id': 3, 'name': 'Mike T.', 'salesrep': 'Sarah H.'}\n"
     ]
    }
   ],
   "source": [
    "for row in cursor:\n",
    "    print(row)"
   ]
  },
  {
   "cell_type": "code",
   "execution_count": 38,
   "metadata": {},
   "outputs": [],
   "source": [
    "conn.close()"
   ]
  }
 ],
 "metadata": {
  "kernelspec": {
   "display_name": "Python 3",
   "language": "python",
   "name": "python3"
  },
  "language_info": {
   "codemirror_mode": {
    "name": "ipython",
    "version": 3
   },
   "file_extension": ".py",
   "mimetype": "text/x-python",
   "name": "python",
   "nbconvert_exporter": "python",
   "pygments_lexer": "ipython3",
   "version": "3.6.8"
  }
 },
 "nbformat": 4,
 "nbformat_minor": 2
}
