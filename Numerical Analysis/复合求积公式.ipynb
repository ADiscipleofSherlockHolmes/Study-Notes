{
 "cells": [
  {
   "cell_type": "markdown",
   "metadata": {},
   "source": [
    "### 复合梯形公式"
   ]
  },
  {
   "cell_type": "code",
   "execution_count": 1,
   "metadata": {},
   "outputs": [],
   "source": [
    "import numpy as np\n",
    "import math"
   ]
  },
  {
   "cell_type": "code",
   "execution_count": 2,
   "metadata": {},
   "outputs": [],
   "source": [
    "n = [100,1000,10000] # 将区间划分成n等分"
   ]
  },
  {
   "cell_type": "code",
   "execution_count": 3,
   "metadata": {},
   "outputs": [
    {
     "name": "stdout",
     "output_type": "stream",
     "text": [
      "n:100,result:1.9998355038874436\n",
      "n:1000,result:1.9999983550656624\n",
      "n:10000,result:1.9999999835506608\n"
     ]
    }
   ],
   "source": [
    "for i in n:\n",
    "    x = np.linspace(0,math.pi,i+1,endpoint=True)\n",
    "    y = np.sin(x)\n",
    "    h = (x[-1]-x[0])/i\n",
    "    temp = 0\n",
    "    for k in range(1,i):\n",
    "        temp += y[k]\n",
    "    temp *= 2\n",
    "    result = h*(y[0]+y[-1]+temp)/2\n",
    "    print(\"n:{},result:{}\".format(i,result))"
   ]
  },
  {
   "cell_type": "markdown",
   "metadata": {},
   "source": [
    "### 复合辛普森求积公式"
   ]
  },
  {
   "cell_type": "code",
   "execution_count": 4,
   "metadata": {},
   "outputs": [],
   "source": [
    "# 四等份\n",
    "n = 4\n",
    "x = np.linspace(0,1,5,endpoint=True)\n",
    "y = np.zeros(5)"
   ]
  },
  {
   "cell_type": "code",
   "execution_count": 5,
   "metadata": {},
   "outputs": [],
   "source": [
    "for i in range(len(x)):\n",
    "    if i==0:\n",
    "        y[i] = 1\n",
    "    else:\n",
    "        y[i] = np.sin(x[i])/x[i]"
   ]
  },
  {
   "cell_type": "code",
   "execution_count": 6,
   "metadata": {},
   "outputs": [],
   "source": [
    "h = (x[-1]-x[0])/n"
   ]
  },
  {
   "cell_type": "code",
   "execution_count": 7,
   "metadata": {},
   "outputs": [
    {
     "name": "stdout",
     "output_type": "stream",
     "text": [
      "result: 0.9460833108884718\n"
     ]
    }
   ],
   "source": [
    "t1 = 0\n",
    "for k in range(n):\n",
    "    t = x[k]+h/2\n",
    "    yt = np.sin(t)/t\n",
    "    t1 += yt\n",
    "t1 *= 4\n",
    "t2 = 0\n",
    "for k in range(1,n):\n",
    "    t2 += (y[k])\n",
    "t2 *= 2\n",
    "result = h*(y[0]+y[-1]+t1+t2)/6\n",
    "print(\"result:\",result)"
   ]
  }
 ],
 "metadata": {
  "kernelspec": {
   "display_name": "Python 3",
   "language": "python",
   "name": "python3"
  },
  "language_info": {
   "codemirror_mode": {
    "name": "ipython",
    "version": 3
   },
   "file_extension": ".py",
   "mimetype": "text/x-python",
   "name": "python",
   "nbconvert_exporter": "python",
   "pygments_lexer": "ipython3",
   "version": "3.6.8"
  }
 },
 "nbformat": 4,
 "nbformat_minor": 2
}
