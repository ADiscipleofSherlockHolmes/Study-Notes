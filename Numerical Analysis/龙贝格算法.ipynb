{
 "cells": [
  {
   "cell_type": "code",
   "execution_count": 1,
   "metadata": {},
   "outputs": [],
   "source": [
    "import numpy as np\n",
    "def fun(x):\n",
    "    if x!=0:\n",
    "        return np.sin(x)/x\n",
    "    return 1"
   ]
  },
  {
   "cell_type": "code",
   "execution_count": 2,
   "metadata": {},
   "outputs": [],
   "source": [
    "def rom(a,b,ep):\n",
    "    h = (b-a)/2\n",
    "    t2 = (fun(a)+fun(b))*h\n",
    "    s2 = c2 = r2 = 0\n",
    "    n = 1\n",
    "    k = 0\n",
    "    while True:\n",
    "        t1 = t2\n",
    "        s1 = s2\n",
    "        c1 = c2\n",
    "        r1 = r2\n",
    "        s = 0\n",
    "        for i in range(1,n+1):\n",
    "            s += fun(a+(2*i-1)*h)\n",
    "        t2 = t1/2 + s*h\n",
    "        s2 = (4*t2-t1)/3\n",
    "        c2 = (16*s2-s1)/15\n",
    "        r2 = (64*c2-c1)/63\n",
    "        n *= 2\n",
    "        k += 1\n",
    "        h /= 2\n",
    "        print(\"t2={},t1={}\".format(t2,t1))\n",
    "        print(\"s2={},s1={}\".format(s2,s1))\n",
    "        print(\"c2={},c1={}\".format(c2,c1))\n",
    "        print(\"r2={},r1={}\".format(r2,r1))\n",
    "        print(\"*\"*30)\n",
    "        if abs(r2-r1)<ep:\n",
    "            print(\"result:\",r2)\n",
    "            break"
   ]
  },
  {
   "cell_type": "code",
   "execution_count": 3,
   "metadata": {},
   "outputs": [
    {
     "name": "stdout",
     "output_type": "stream",
     "text": [
      "t2=0.9397932848061772,t1=0.9207354924039483\n",
      "s2=0.9461458822735868,s1=0\n",
      "c2=1.009222274425159,c1=0\n",
      "r2=1.0252416756065108,r1=0\n",
      "******************************\n",
      "t2=0.9445135216653896,t1=0.9397932848061772\n",
      "s2=0.9460869339517938,s1=0.9461458822735868\n",
      "c2=0.9460830040636742,c1=1.009222274425159\n",
      "r2=0.9450807934230158,r1=1.0252416756065108\n",
      "******************************\n",
      "t2=0.9456908635827013,t1=0.9445135216653896\n",
      "s2=0.9460833108884718,s1=0.9460869339517938\n",
      "c2=0.946083069350917,c1=0.9460830040636742\n",
      "r2=0.9460830703872225,r1=0.9450807934230158\n",
      "******************************\n",
      "t2=0.9459850299343859,t1=0.9456908635827013\n",
      "s2=0.9460830853849475,s1=0.9460833108884718\n",
      "c2=0.9460830703513792,c1=0.946083069350917\n",
      "r2=0.9460830703672595,r1=0.9460830703872225\n",
      "******************************\n",
      "result: 0.9460830703672595\n"
     ]
    }
   ],
   "source": [
    "a = 0\n",
    "b = 1\n",
    "ep = 1e-7\n",
    "rom(a,b,ep)"
   ]
  },
  {
   "cell_type": "code",
   "execution_count": null,
   "metadata": {},
   "outputs": [],
   "source": []
  }
 ],
 "metadata": {
  "kernelspec": {
   "display_name": "Python 3",
   "language": "python",
   "name": "python3"
  },
  "language_info": {
   "codemirror_mode": {
    "name": "ipython",
    "version": 3
   },
   "file_extension": ".py",
   "mimetype": "text/x-python",
   "name": "python",
   "nbconvert_exporter": "python",
   "pygments_lexer": "ipython3",
   "version": "3.6.8"
  }
 },
 "nbformat": 4,
 "nbformat_minor": 2
}
