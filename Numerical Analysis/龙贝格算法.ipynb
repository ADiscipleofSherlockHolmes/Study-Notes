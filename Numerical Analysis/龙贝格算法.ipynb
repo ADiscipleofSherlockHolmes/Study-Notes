{
 "cells": [
  {
   "cell_type": "code",
   "execution_count": 1,
   "metadata": {},
   "outputs": [],
   "source": [
    "import numpy as np\n",
    "def fun(x):\n",
    "    if x!=0:\n",
    "        return np.sin(x)/x\n",
    "    return 1"
   ]
  },
  {
   "cell_type": "code",
   "execution_count": 2,
   "metadata": {},
   "outputs": [],
   "source": [
    "import time\n",
    "def rom(a,b,ep):\n",
    "    start = time.clock()\n",
    "    h = (b-a)/2\n",
    "    t2 = (fun(a)+fun(b))*h\n",
    "    s2 = c2 = r2 = 0\n",
    "    n = 1\n",
    "    k = 0\n",
    "    while True:\n",
    "        t1 = t2\n",
    "        s1 = s2\n",
    "        c1 = c2\n",
    "        r1 = r2\n",
    "        s = 0\n",
    "        for i in range(1,n+1):\n",
    "            s += fun(a+(2*i-1)*h)\n",
    "        t2 = t1/2 + s*h\n",
    "        s2 = (4*t2-t1)/3\n",
    "        c2 = (16*s2-s1)/15\n",
    "        r2 = (64*c2-c1)/63\n",
    "        n *= 2\n",
    "        k += 1\n",
    "        h /= 2\n",
    "#         print(\"t2={},t1={}\".format(t2,t1))\n",
    "#         print(\"s2={},s1={}\".format(s2,s1))\n",
    "#         print(\"c2={},c1={}\".format(c2,c1))\n",
    "#         print(\"r2={},r1={}\".format(r2,r1))\n",
    "#         print(\"*\"*30)\n",
    "        if abs(r2-r1)<ep:\n",
    "            end = time.clock()\n",
    "            print(\"time:\",end-start)\n",
    "            print(\"result:\",r2)\n",
    "            break"
   ]
  },
  {
   "cell_type": "code",
   "execution_count": 3,
   "metadata": {},
   "outputs": [
    {
     "name": "stdout",
     "output_type": "stream",
     "text": [
      "time: 0.00019936279422059342\n",
      "result: 0.9460830703672595\n"
     ]
    }
   ],
   "source": [
    "a = 0\n",
    "b = 1\n",
    "ep = 1e-7\n",
    "rom(a,b,ep)"
   ]
  },
  {
   "cell_type": "code",
   "execution_count": 4,
   "metadata": {},
   "outputs": [],
   "source": [
    "def trapezoid(a,b,ep):\n",
    "    start = time.clock()\n",
    "    h = (b-a)/2\n",
    "    t2 = (fun(a)+fun(b))*h\n",
    "    n = 1\n",
    "    k = 0\n",
    "    while True:\n",
    "        t1 = t2\n",
    "        s = 0\n",
    "        for i in range(1,n+1):\n",
    "            s += fun(a+(2*i-1)*h)\n",
    "        t2 = t1/2 + s*h\n",
    "        n *= 2\n",
    "        k += 1\n",
    "        h /= 2\n",
    "        if abs(t2-t1)<ep:\n",
    "            end = time.clock()\n",
    "            print(\"time:\",end-start)\n",
    "            print(\"result:\",t2)\n",
    "            break"
   ]
  },
  {
   "cell_type": "code",
   "execution_count": 5,
   "metadata": {},
   "outputs": [
    {
     "name": "stdout",
     "output_type": "stream",
     "text": [
      "time: 0.00391891371442335\n",
      "result: 0.946083046432447\n"
     ]
    }
   ],
   "source": [
    "a = 0\n",
    "b = 1\n",
    "ep = 1e-7\n",
    "trapezoid(a,b,ep)"
   ]
  }
 ],
 "metadata": {
  "kernelspec": {
   "display_name": "Python 3",
   "language": "python",
   "name": "python3"
  },
  "language_info": {
   "codemirror_mode": {
    "name": "ipython",
    "version": 3
   },
   "file_extension": ".py",
   "mimetype": "text/x-python",
   "name": "python",
   "nbconvert_exporter": "python",
   "pygments_lexer": "ipython3",
   "version": "3.6.8"
  }
 },
 "nbformat": 4,
 "nbformat_minor": 2
}
